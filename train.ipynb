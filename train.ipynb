{
 "cells": [
  {
   "cell_type": "code",
   "execution_count": null,
   "metadata": {},
   "outputs": [],
   "source": [
    "import os\n",
    "import numpy as np\n",
    "import matplotlib.pyplot as plt\n",
    "import SimpleITK as sitk\n",
    "import datetime"
   ]
  },
  {
   "cell_type": "code",
   "execution_count": null,
   "metadata": {},
   "outputs": [],
   "source": [
    "#### Converting pre-processed images to NumPy arrays\n",
    "\n",
    "# List full paths of all files in the directory\n",
    "image_dir = \"data/train/images\"\n",
    "image_paths = [os.path.join(image_dir, \"post/imag\", image_name) for image_name in sorted(os.listdir(os.path.join(image_dir, \"post/imag\"))) \n",
    "             if image_name.endswith('.nii')]\n",
    "\n",
    "# Convert sitk images to arrays\n",
    "image_arrays = []\n",
    "for image_path in image_paths:\n",
    "    image = sitk.ReadImage(image_path)\n",
    "    image_array = sitk.GetArrayFromImage(image)\n",
    "    image_arrays.append(image_array)\n",
    "    print(f\"Image array created for {image_path[28:]}\")\n",
    "\n",
    "# Convert the list of image arrays to a single NumPy array\n",
    "# Make sure that all the images have the same dimensions before converting them to a NumPy array.\n",
    "x_train = np.array(image_arrays)\n",
    "print(f\"x_train created with shape {x_train.shape}\")"
   ]
  },
  {
   "cell_type": "code",
   "execution_count": null,
   "metadata": {},
   "outputs": [],
   "source": [
    "#### Converting pre-processed masks to NumPy arrays\n",
    "\n",
    "# List full paths of all files in the directory\n",
    "image_dir = \"data/train/images\"\n",
    "mask_paths = [os.path.join(image_dir, \"post/mask\", mask_name) for mask_name in sorted(os.listdir(os.path.join(image_dir, \"post/mask\"))) \n",
    "             if mask_name.endswith('.nii')]\n",
    "\n",
    "# Convert sitk images to arrays\n",
    "mask_arrays = []\n",
    "for mask_path in mask_paths:\n",
    "    mask = sitk.ReadImage(mask_path)\n",
    "    mask_array = sitk.GetArrayFromImage(image)\n",
    "    mask_arrays.append(mask_array)\n",
    "    print(f\"Image array created for {mask_path[28:]}\")\n",
    "\n",
    "# Convert the list of image arrays to a single NumPy array\n",
    "# Make sure that all the images have the same dimensions before converting them to a NumPy array.\n",
    "y_train = np.array(mask_arrays)\n",
    "print(f\"y_train created with shape {y_train.shape}\")"
   ]
  },
  {
   "cell_type": "code",
   "execution_count": null,
   "metadata": {},
   "outputs": [],
   "source": [
    "from keras import backend as K\n",
    "from resnet3d import Resnet3DBuilder # pip install git+https://github.com/JihongJu/keras-resnet3d.git\n",
    "\n",
    "bchs = 4\n",
    "epch = 150\n",
    "file = 'simple_model'\n",
    "\n",
    "ir = x_train.shape[1]\n",
    "ic = x_train.shape[2]\n",
    "ih = x_train.shape[3]\n",
    "if K.image_data_format() == 'channels_first':\n",
    "    x_train = x_train.reshape(x_train.shape[0], 1, ir, ic, ih)\n",
    "    # x_test = x_test.reshape(x_test.shape[0], 1, ir, ic, ih)\n",
    "    input_shape = (1, ir, ic, ih)\n",
    "else:\n",
    "    x_train = x_train.reshape(x_train.shape[0], ir, ic, ih, 1)\n",
    "    # x_test = x_test.reshape(x_test.shape[0], ir, ic, ih, 1)\n",
    "    input_shape = (ir, ic, ih, 1)\n",
    "\n",
    "nb_classes = y_train.shape[1] # negative number sets regression\n",
    "    \n",
    "model = Resnet3DBuilder.build_resnet_50(input_shape, nb_classes)\n",
    "model.compile(optimizer = 'adam',\n",
    "              loss = 'mean_squared_error', \n",
    "              metrics = ['mae'])\n",
    "\n",
    "trainstarttime = datetime.datetime.today()\n",
    "print(\"Train start time\" + str(trainstarttime))\n",
    "\n",
    "history = model.fit(x_train, y_train,\n",
    "            batch_size = bchs,\n",
    "            epochs = epch,\n",
    "            verbose = 1) # validation_data = (x_test, y_test)\n",
    "\n",
    "trainfinishtime = datetime.datetime.today()\n",
    "print(\"Train finish time\" + str(trainfinishtime))\n",
    "ttime = str(trainfinishtime - trainstarttime)\n",
    "print(\"training time\" + ttime)\n",
    "\n",
    "json_string = model.to_json()\n",
    "fj = file + '.json'\n",
    "fh = file + '.h5'\n",
    "open(fj, 'w').write(json_string)\n",
    "model.save_weights(fh)"
   ]
  }
 ],
 "metadata": {
  "kernelspec": {
   "display_name": "venv",
   "language": "python",
   "name": "python3"
  },
  "language_info": {
   "codemirror_mode": {
    "name": "ipython",
    "version": 3
   },
   "file_extension": ".py",
   "mimetype": "text/x-python",
   "name": "python",
   "nbconvert_exporter": "python",
   "pygments_lexer": "ipython3",
   "version": "3.11.7"
  }
 },
 "nbformat": 4,
 "nbformat_minor": 2
}
