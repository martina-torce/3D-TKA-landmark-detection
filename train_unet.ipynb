{
 "cells": [
  {
   "cell_type": "code",
   "execution_count": 18,
   "metadata": {},
   "outputs": [],
   "source": [
    "import numpy as np\n",
    "import datetime"
   ]
  },
  {
   "cell_type": "code",
   "execution_count": 19,
   "metadata": {},
   "outputs": [],
   "source": [
    "x_train = np.load('data/train/x_train.npy')\n",
    "y_train = np.load('data/train/y_train_seg.npy')"
   ]
  },
  {
   "cell_type": "code",
   "execution_count": 20,
   "metadata": {},
   "outputs": [
    {
     "name": "stdout",
     "output_type": "stream",
     "text": [
      "Model: \"unet\"\n",
      "__________________________________________________________________________________________________\n",
      " Layer (type)                Output Shape                 Param #   Connected to                  \n",
      "==================================================================================================\n",
      " input_3 (InputLayer)        [(None, 256, 256, 256, 1)]   0         []                            \n",
      "                                                                                                  \n",
      " conv3d_2 (Conv3D)           (None, 256, 256, 256, 64)    1792      ['input_3[0][0]']             \n",
      "                                                                                                  \n",
      " conv3d_3 (Conv3D)           (None, 256, 256, 256, 64)    110656    ['conv3d_2[0][0]']            \n",
      "                                                                                                  \n",
      " max_pooling3d (MaxPooling3  (None, 128, 128, 128, 64)    0         ['conv3d_3[0][0]']            \n",
      " D)                                                                                               \n",
      "                                                                                                  \n",
      " conv3d_4 (Conv3D)           (None, 128, 128, 128, 128)   221312    ['max_pooling3d[0][0]']       \n",
      "                                                                                                  \n",
      " conv3d_5 (Conv3D)           (None, 128, 128, 128, 128)   442496    ['conv3d_4[0][0]']            \n",
      "                                                                                                  \n",
      " max_pooling3d_1 (MaxPoolin  (None, 64, 64, 64, 128)      0         ['conv3d_5[0][0]']            \n",
      " g3D)                                                                                             \n",
      "                                                                                                  \n",
      " conv3d_6 (Conv3D)           (None, 64, 64, 64, 256)      884992    ['max_pooling3d_1[0][0]']     \n",
      "                                                                                                  \n",
      " conv3d_7 (Conv3D)           (None, 64, 64, 64, 256)      1769728   ['conv3d_6[0][0]']            \n",
      "                                                                                                  \n",
      " up_sampling3d (UpSampling3  (None, 128, 128, 128, 256)   0         ['conv3d_7[0][0]']            \n",
      " D)                                                                                               \n",
      "                                                                                                  \n",
      " concatenate (Concatenate)   (None, 128, 128, 128, 384)   0         ['conv3d_5[0][0]',            \n",
      "                                                                     'up_sampling3d[0][0]']       \n",
      "                                                                                                  \n",
      " conv3d_8 (Conv3D)           (None, 128, 128, 128, 128)   1327232   ['concatenate[0][0]']         \n",
      "                                                                                                  \n",
      " conv3d_9 (Conv3D)           (None, 128, 128, 128, 128)   442496    ['conv3d_8[0][0]']            \n",
      "                                                                                                  \n",
      " up_sampling3d_1 (UpSamplin  (None, 256, 256, 256, 128)   0         ['conv3d_9[0][0]']            \n",
      " g3D)                                                                                             \n",
      "                                                                                                  \n",
      " concatenate_1 (Concatenate  (None, 256, 256, 256, 192)   0         ['conv3d_3[0][0]',            \n",
      " )                                                                   'up_sampling3d_1[0][0]']     \n",
      "                                                                                                  \n",
      " conv3d_10 (Conv3D)          (None, 256, 256, 256, 64)    331840    ['concatenate_1[0][0]']       \n",
      "                                                                                                  \n",
      " conv3d_11 (Conv3D)          (None, 256, 256, 256, 64)    110656    ['conv3d_10[0][0]']           \n",
      "                                                                                                  \n",
      " conv3d_12 (Conv3D)          (None, 256, 256, 256, 1)     65        ['conv3d_11[0][0]']           \n",
      "                                                                                                  \n",
      "==================================================================================================\n",
      "Total params: 5643265 (21.53 MB)\n",
      "Trainable params: 5643265 (21.53 MB)\n",
      "Non-trainable params: 0 (0.00 Byte)\n",
      "__________________________________________________________________________________________________\n"
     ]
    },
    {
     "name": "stderr",
     "output_type": "stream",
     "text": [
      "WARNING:absl:At this time, the v2.11+ optimizer `tf.keras.optimizers.Adam` runs slowly on M1/M2 Macs, please use the legacy Keras optimizer instead, located at `tf.keras.optimizers.legacy.Adam`.\n"
     ]
    },
    {
     "name": "stdout",
     "output_type": "stream",
     "text": [
      "\n",
      "Train start time: 2024-03-02 23:07:52.994858\n",
      "Epoch 1/70\n"
     ]
    }
   ],
   "source": [
    "from keras import backend as K\n",
    "from model_unet3d import unet\n",
    "from tensorflow.keras.optimizers import Adam\n",
    "from tensorflow.keras.losses import BinaryCrossentropy\n",
    "from tensorflow.keras.metrics import MeanIoU\n",
    "\n",
    "ir = x_train.shape[1] # rows\n",
    "ic = x_train.shape[2] # cols\n",
    "ih = x_train.shape[3] # slices\n",
    "\n",
    "if K.image_data_format() == 'channels_first':\n",
    "    x_train = x_train.reshape(x_train.shape[0], 1, ir, ic, ih)\n",
    "    input_shape = (1, ir, ic, ih)\n",
    "else:\n",
    "    x_train = x_train.reshape(x_train.shape[0], ir, ic, ih, 1)\n",
    "    input_shape = (ir, ic, ih, 1)\n",
    "\n",
    "model = unet(input_shape=input_shape)\n",
    "model.summary()\n",
    "\n",
    "model.compile(optimizer=Adam(), \n",
    "              loss=BinaryCrossentropy(), \n",
    "              metrics=[MeanIoU(num_classes=2)])\n",
    "\n",
    "trainstarttime = datetime.datetime.today()\n",
    "print(\"\")\n",
    "print(\"Train start time: \" + str(trainstarttime))\n",
    "\n",
    "history = model.fit(x_train, y_train, \n",
    "                    epochs=70, \n",
    "                    batch_size=1, \n",
    "                    verbose=1)\n",
    "\n",
    "trainfinishtime = datetime.datetime.today()\n",
    "print(\"Train finish time: \" + str(trainfinishtime))\n",
    "ttime = str(trainfinishtime - trainstarttime)\n",
    "print(\"Training time: \" + ttime)"
   ]
  },
  {
   "cell_type": "code",
   "execution_count": null,
   "metadata": {},
   "outputs": [],
   "source": [
    "file = 'data/train/models/unet_model'\n",
    "\n",
    "json_string = model.to_json()\n",
    "fj = file + '.json'\n",
    "fh = file + '.h5'\n",
    "open(fj, 'w').write(json_string)\n",
    "model.save_weights(fh)\n",
    "\n",
    "print(\"Model saved.\")"
   ]
  }
 ],
 "metadata": {
  "kernelspec": {
   "display_name": "venv",
   "language": "python",
   "name": "python3"
  },
  "language_info": {
   "codemirror_mode": {
    "name": "ipython",
    "version": 3
   },
   "file_extension": ".py",
   "mimetype": "text/x-python",
   "name": "python",
   "nbconvert_exporter": "python",
   "pygments_lexer": "ipython3",
   "version": "3.11.7"
  }
 },
 "nbformat": 4,
 "nbformat_minor": 2
}
