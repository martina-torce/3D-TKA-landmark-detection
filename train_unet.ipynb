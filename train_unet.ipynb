{
 "cells": [
  {
   "cell_type": "code",
   "execution_count": 13,
   "metadata": {},
   "outputs": [],
   "source": [
    "import os\n",
    "import numpy as np\n",
    "import SimpleITK as sitk\n",
    "import datetime"
   ]
  },
  {
   "cell_type": "code",
   "execution_count": null,
   "metadata": {},
   "outputs": [],
   "source": [
    "x_train = np.load('data/train/x_train.npy')\n",
    "x_test = np.load('data/train/x_test.npy')\n",
    "y_train = np.load('data/train/y_train.npy')\n",
    "y_test = np.load('data/train/y_test.npy')"
   ]
  },
  {
   "cell_type": "code",
   "execution_count": null,
   "metadata": {},
   "outputs": [],
   "source": [
    "from tensorflow.keras.models import Model\n",
    "from tensorflow.keras.layers import Input, Conv3D, MaxPooling3D, Dropout, concatenate, UpSampling3D\n",
    "\n",
    "def unet_3d_model(input_size=(256, 256, 256, 1)):\n",
    "    # Input layer\n",
    "    inputs = Input(input_size)\n",
    "\n",
    "    # Contracting Path\n",
    "    conv1 = Conv3D(64, 3, activation='relu', padding='same')(inputs)\n",
    "    conv1 = Conv3D(64, 3, activation='relu', padding='same')(conv1)\n",
    "    pool1 = MaxPooling3D(pool_size=(2, 2, 2))(conv1)\n",
    "\n",
    "    conv2 = Conv3D(128, 3, activation='relu', padding='same')(pool1)\n",
    "    conv2 = Conv3D(128, 3, activation='relu', padding='same')(conv2)\n",
    "    pool2 = MaxPooling3D(pool_size=(2, 2, 2))(conv2)\n",
    "\n",
    "    conv3 = Conv3D(256, 3, activation='relu', padding='same')(pool2)\n",
    "    conv3 = Conv3D(256, 3, activation='relu', padding='same')(conv3)\n",
    "    pool3 = MaxPooling3D(pool_size=(2, 2, 2))(conv3)\n",
    "\n",
    "    # Bottom of the U\n",
    "    conv4 = Conv3D(512, 3, activation='relu', padding='same')(pool3)\n",
    "    conv4 = Conv3D(512, 3, activation='relu', padding='same')(conv4)\n",
    "\n",
    "    # Expansive Path\n",
    "    up5 = concatenate([UpSampling3D(size=(2, 2, 2))(conv4), conv3], axis=-1)\n",
    "    conv5 = Conv3D(256, 3, activation='relu', padding='same')(up5)\n",
    "    conv5 = Conv3D(256, 3, activation='relu', padding='same')(conv5)\n",
    "\n",
    "    up6 = concatenate([UpSampling3D(size=(2, 2, 2))(conv5), conv2], axis=-1)\n",
    "    conv6 = Conv3D(128, 3, activation='relu', padding='same')(up6)\n",
    "    conv6 = Conv3D(128, 3, activation='relu', padding='same')(conv6)\n",
    "\n",
    "    up7 = concatenate([UpSampling3D(size=(2, 2, 2))(conv6), conv1], axis=-1)\n",
    "    conv7 = Conv3D(64, 3, activation='relu', padding='same')(up7)\n",
    "    conv7 = Conv3D(64, 3, activation='relu', padding='same')(conv7)\n",
    "\n",
    "    # Output layer\n",
    "    outputs = Conv3D(1, 1, activation='sigmoid')(conv7)\n",
    "\n",
    "    # Create the model\n",
    "    model = Model(inputs=inputs, outputs=outputs)\n",
    "\n",
    "    return model\n",
    "\n",
    "# Create the 3D U-Net model\n",
    "model = unet_3d_model(input_size=(256, 256, 256, 1))\n",
    "\n",
    "model.compile(optimizer = 'adam',\n",
    "              loss = 'mean_squared_error', \n",
    "              metrics = ['mae'])\n",
    "\n",
    "trainstarttime = datetime.datetime.today()\n",
    "print(\"\")\n",
    "print(\"Train start time: \" + str(trainstarttime))\n",
    "\n",
    "history = model.fit(x_train, y_train,\n",
    "            batch_size = 1,\n",
    "            epochs = 75,\n",
    "            verbose = 1,\n",
    "            validation_data = (x_test, y_test))\n",
    "\n",
    "trainfinishtime = datetime.datetime.today()\n",
    "print(\"Train finish time: \" + str(trainfinishtime))\n",
    "ttime = str(trainfinishtime - trainstarttime)\n",
    "print(\"Training time: \" + ttime)\n",
    "print(\"\")"
   ]
  },
  {
   "cell_type": "code",
   "execution_count": null,
   "metadata": {},
   "outputs": [],
   "source": [
    "file = 'data/train/models/simple_unet_model'\n",
    "\n",
    "json_string = model.to_json()\n",
    "fj = file + '.json'\n",
    "fh = file + '.h5'\n",
    "open(fj, 'w').write(json_string)\n",
    "model.save_weights(fh)\n",
    "\n",
    "print(\"Model saved.\")"
   ]
  }
 ],
 "metadata": {
  "kernelspec": {
   "display_name": "venv",
   "language": "python",
   "name": "python3"
  },
  "language_info": {
   "codemirror_mode": {
    "name": "ipython",
    "version": 3
   },
   "file_extension": ".py",
   "mimetype": "text/x-python",
   "name": "python",
   "nbconvert_exporter": "python",
   "pygments_lexer": "ipython3",
   "version": "3.11.7"
  }
 },
 "nbformat": 4,
 "nbformat_minor": 2
}
