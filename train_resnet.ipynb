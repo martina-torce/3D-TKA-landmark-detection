{
 "cells": [
  {
   "cell_type": "code",
   "execution_count": 1,
   "metadata": {},
   "outputs": [],
   "source": [
    "import numpy as np\n",
    "import datetime"
   ]
  },
  {
   "cell_type": "code",
   "execution_count": 2,
   "metadata": {},
   "outputs": [],
   "source": [
    "x_train = np.load('data/train/x_train.npy')\n",
    "# x_test = np.load('data/train/x_test.npy')\n",
    "y_train = np.load('data/train/y_train.npy')\n",
    "# y_test = np.load('data/train/y_test.npy')"
   ]
  },
  {
   "cell_type": "code",
   "execution_count": null,
   "metadata": {},
   "outputs": [],
   "source": [
    "from keras import backend as K\n",
    "from resnet3d import Resnet3DBuilder \n",
    "# pip install git+https://github.com/JihongJu/keras-resnet3d.git\n",
    "\n",
    "bchs = 1\n",
    "epch = 75\n",
    "\n",
    "ir = x_train.shape[1] # rows\n",
    "ic = x_train.shape[2] # cols\n",
    "ih = x_train.shape[3] # slices\n",
    "\n",
    "if K.image_data_format() == 'channels_first':\n",
    "    x_train = x_train.reshape(x_train.shape[0], 1, ir, ic, ih)\n",
    "    # x_test = x_test.reshape(x_test.shape[0], 1, ir, ic, ih)\n",
    "    input_shape = (1, ir, ic, ih)\n",
    "else:\n",
    "    x_train = x_train.reshape(x_train.shape[0], ir, ic, ih, 1)\n",
    "    # x_test = x_test.reshape(x_test.shape[0], ir, ic, ih, 1)\n",
    "    input_shape = (ir, ic, ih, 1)\n",
    "\n",
    "nb_classes = y_train.shape[1]\n",
    "    \n",
    "model = Resnet3DBuilder.build_resnet_50(input_shape, nb_classes)\n",
    "model.compile(optimizer = 'adam',\n",
    "              loss = 'mean_squared_error', \n",
    "              metrics = ['mae'])\n",
    "\n",
    "trainstarttime = datetime.datetime.today()\n",
    "print(\"\")\n",
    "print(\"Train start time: \" + str(trainstarttime))\n",
    "\n",
    "history = model.fit(x_train, y_train,\n",
    "            batch_size = bchs,\n",
    "            epochs = epch,\n",
    "            verbose = 1)\n",
    "            # validation_data = (x_test, y_test))\n",
    "\n",
    "trainfinishtime = datetime.datetime.today()\n",
    "print(\"Train finish time: \" + str(trainfinishtime))\n",
    "ttime = str(trainfinishtime - trainstarttime)\n",
    "print(\"Training time: \" + ttime)\n",
    "print(\"\")"
   ]
  },
  {
   "cell_type": "code",
   "execution_count": null,
   "metadata": {},
   "outputs": [],
   "source": [
    "file = 'data/train/models/resnet_model'\n",
    "\n",
    "json_string = model.to_json()\n",
    "fj = file + '.json'\n",
    "fh = file + '.h5'\n",
    "open(fj, 'w').write(json_string)\n",
    "model.save_weights(fh)\n",
    "\n",
    "print(\"Model saved.\")"
   ]
  }
 ],
 "metadata": {
  "kernelspec": {
   "display_name": "venv",
   "language": "python",
   "name": "python3"
  },
  "language_info": {
   "codemirror_mode": {
    "name": "ipython",
    "version": 3
   },
   "file_extension": ".py",
   "mimetype": "text/x-python",
   "name": "python",
   "nbconvert_exporter": "python",
   "pygments_lexer": "ipython3",
   "version": "3.11.7"
  }
 },
 "nbformat": 4,
 "nbformat_minor": 2
}
