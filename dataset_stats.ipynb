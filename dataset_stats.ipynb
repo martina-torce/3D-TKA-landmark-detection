{
 "cells": [
  {
   "cell_type": "code",
   "execution_count": 2,
   "metadata": {},
   "outputs": [],
   "source": [
    "import os\n",
    "import numpy as np\n",
    "import SimpleITK as sitk"
   ]
  },
  {
   "cell_type": "code",
   "execution_count": 3,
   "metadata": {},
   "outputs": [
    {
     "name": "stdout",
     "output_type": "stream",
     "text": [
      "Image data/train/images/orig/imag/100063_ct.nii\n",
      "--------------------------------\n",
      "Size: (587, 587, 3311)\n",
      "Spacing: (0.9765620231628418, 0.9765620231628418, 0.5)\n",
      "Min-max intensity: 0-4000\n",
      "\n",
      "Image data/train/images/orig/imag/100084_ct.nii\n",
      "--------------------------------\n",
      "Size: (543, 517, 3003)\n",
      "Spacing: (0.8613280057907104, 0.8613280057907104, 0.5)\n",
      "Min-max intensity: 0-4000\n",
      "\n",
      "Image data/train/images/orig/imag/100114_ct.nii\n",
      "--------------------------------\n",
      "Size: (578, 573, 3194)\n",
      "Spacing: (0.84375, 0.84375, 0.5)\n",
      "Min-max intensity: 0-4000\n",
      "\n",
      "Image data/train/images/orig/imag/100115_ct.nii\n",
      "--------------------------------\n",
      "Size: (550, 596, 3083)\n",
      "Spacing: (0.8984379768371582, 0.8984379768371582, 0.5)\n",
      "Min-max intensity: 0-4000\n",
      "\n",
      "Image data/train/images/orig/imag/100125_ct.nii\n",
      "--------------------------------\n",
      "Size: (591, 604, 2922)\n",
      "Spacing: (0.671875, 0.671875, 0.5)\n",
      "Min-max intensity: 0-4000\n",
      "\n",
      "Image data/train/images/orig/imag/100131_ct.nii\n",
      "--------------------------------\n",
      "Size: (551, 621, 3053)\n",
      "Spacing: (1.1718800067901611, 1.1718800067901611, 0.5)\n",
      "Min-max intensity: 0-4000\n",
      "\n",
      "Image data/train/images/orig/imag/100139_ct.nii\n",
      "--------------------------------\n",
      "Size: (564, 559, 3012)\n",
      "Spacing: (0.8964840173721313, 0.8964840173721313, 0.5)\n",
      "Min-max intensity: 0-4000\n",
      "\n",
      "Image data/train/images/orig/imag/100155_ct.nii\n",
      "--------------------------------\n",
      "Size: (626, 675, 3238)\n",
      "Spacing: (1.1191400289535522, 1.1191400289535522, 0.5)\n",
      "Min-max intensity: 0-4000\n",
      "\n",
      "Image data/train/images/orig/imag/100193_ct.nii\n",
      "--------------------------------\n",
      "Size: (546, 543, 3364)\n",
      "Spacing: (0.921875, 0.921875, 0.5)\n",
      "Min-max intensity: 0-4000\n",
      "\n",
      "Image data/train/images/orig/imag/100222_ct.nii\n",
      "--------------------------------\n",
      "Size: (532, 549, 3176)\n",
      "Spacing: (1.0527299642562866, 1.0527299642562866, 0.5)\n",
      "Min-max intensity: 0-4000\n",
      "\n"
     ]
    }
   ],
   "source": [
    "##### Visualise dataset characteristics\n",
    "image_dir = \"data/train/images\"\n",
    "\n",
    "image_paths = [os.path.join(image_dir, \"orig/imag\", image_name) \n",
    "               for image_name \n",
    "               in sorted(os.listdir(os.path.join(image_dir, \"orig/imag\")))\n",
    "               if image_name.endswith('.nii')]\n",
    "\n",
    "for image_path in image_paths:\n",
    "    image = sitk.ReadImage(image_path)\n",
    "    img_array = sitk.GetArrayFromImage(image)\n",
    "    \n",
    "    local_min = np.min(img_array)\n",
    "    local_max = np.max(img_array)\n",
    "\n",
    "    print(f\"Image {image_path}\")\n",
    "    print(\"--------------------------------\")\n",
    "    print(f\"Size: {image.GetSize()}\")\n",
    "    print(f\"Spacing: {image.GetSpacing()}\")\n",
    "    print(f\"Min-max intensity: {np.min(img_array)}-{np.max(img_array)}\")\n",
    "    print(\"\")"
   ]
  },
  {
   "cell_type": "code",
   "execution_count": 4,
   "metadata": {},
   "outputs": [
    {
     "name": "stdout",
     "output_type": "stream",
     "text": [
      "Global min intensity: 0\n",
      "Global max intensity: 4000\n"
     ]
    }
   ],
   "source": [
    "##### Find global max and min intensity values\n",
    "\n",
    "global_min = 0\n",
    "global_max = 0\n",
    "\n",
    "for image_path in image_paths:\n",
    "    image = sitk.ReadImage(image_path)\n",
    "    img_array = sitk.GetArrayFromImage(image)\n",
    "\n",
    "    # Intensity\n",
    "    \n",
    "    local_min = np.min(img_array)\n",
    "    local_max = np.max(img_array)\n",
    "    \n",
    "    # Update global min and max intensity values\n",
    "    global_min = min(global_min, local_min)\n",
    "    global_max = max(global_max, local_max)\n",
    "\n",
    "print(f\"Global min intensity: {global_min}\")\n",
    "print(f\"Global max intensity: {global_max}\")"
   ]
  }
 ],
 "metadata": {
  "kernelspec": {
   "display_name": "venv",
   "language": "python",
   "name": "python3"
  },
  "language_info": {
   "codemirror_mode": {
    "name": "ipython",
    "version": 3
   },
   "file_extension": ".py",
   "mimetype": "text/x-python",
   "name": "python",
   "nbconvert_exporter": "python",
   "pygments_lexer": "ipython3",
   "version": "3.11.7"
  }
 },
 "nbformat": 4,
 "nbformat_minor": 2
}
